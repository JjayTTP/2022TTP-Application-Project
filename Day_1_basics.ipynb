{
  "nbformat": 4,
  "nbformat_minor": 0,
  "metadata": {
    "colab": {
      "name": "Day 1 basics.ipynb",
      "provenance": [],
      "authorship_tag": "ABX9TyM+YRjVopd2e131Gyg8wZSl",
      "include_colab_link": true
    },
    "kernelspec": {
      "name": "python3",
      "display_name": "Python 3"
    },
    "language_info": {
      "name": "python"
    }
  },
  "cells": [
    {
      "cell_type": "markdown",
      "metadata": {
        "id": "view-in-github",
        "colab_type": "text"
      },
      "source": [
        "<a href=\"https://colab.research.google.com/github/mic4x/2022TTP-Application-Project/blob/main/Day_1_basics.ipynb\" target=\"_parent\"><img src=\"https://colab.research.google.com/assets/colab-badge.svg\" alt=\"Open In Colab\"/></a>"
      ]
    },
    {
      "cell_type": "code",
      "source": [
        "# "
      ],
      "metadata": {
        "id": "skg0dt-e0Sc3"
      },
      "execution_count": 34,
      "outputs": []
    },
    {
      "cell_type": "code",
      "execution_count": 35,
      "metadata": {
        "colab": {
          "base_uri": "https://localhost:8080/"
        },
        "id": "OE040We1iInm",
        "outputId": "8ca86cb3-49d6-45fa-f9ce-1cdf200ec390"
      },
      "outputs": [
        {
          "output_type": "stream",
          "name": "stdout",
          "text": [
            "Hello There\n"
          ]
        }
      ],
      "source": [
        "print('Hello There')"
      ]
    },
    {
      "cell_type": "code",
      "source": [
        "import this"
      ],
      "metadata": {
        "id": "U9X92cCxioxd"
      },
      "execution_count": 36,
      "outputs": []
    },
    {
      "cell_type": "markdown",
      "source": [
        "# String Basics "
      ],
      "metadata": {
        "id": "mhv66OcctSgZ"
      }
    },
    {
      "cell_type": "code",
      "source": [
        "'I love making strings'"
      ],
      "metadata": {
        "colab": {
          "base_uri": "https://localhost:8080/",
          "height": 35
        },
        "id": "85fjk2Cz0MSV",
        "outputId": "fef7c173-cc57-4bda-9b9e-5cd994f9341f"
      },
      "execution_count": 37,
      "outputs": [
        {
          "output_type": "execute_result",
          "data": {
            "application/vnd.google.colaboratory.intrinsic+json": {
              "type": "string"
            },
            "text/plain": [
              "'I love making strings'"
            ]
          },
          "metadata": {},
          "execution_count": 37
        }
      ]
    },
    {
      "cell_type": "markdown",
      "source": [
        ""
      ],
      "metadata": {
        "id": "FPT2jbsU0QJz"
      }
    },
    {
      "cell_type": "code",
      "source": [
        "'Please check out this story I created'"
      ],
      "metadata": {
        "colab": {
          "base_uri": "https://localhost:8080/",
          "height": 35
        },
        "id": "YpqLFZm50MO_",
        "outputId": "3c2ef5a0-1062-410d-ae62-d640af9ab1e9"
      },
      "execution_count": 38,
      "outputs": [
        {
          "output_type": "execute_result",
          "data": {
            "application/vnd.google.colaboratory.intrinsic+json": {
              "type": "string"
            },
            "text/plain": [
              "'Please check out this story I created'"
            ]
          },
          "metadata": {},
          "execution_count": 38
        }
      ]
    },
    {
      "cell_type": "code",
      "source": [
        "'So there was a boy, and he wanted to learn how to program'"
      ],
      "metadata": {
        "colab": {
          "base_uri": "https://localhost:8080/",
          "height": 35
        },
        "id": "oEMubTLZ0MKo",
        "outputId": "f49f9055-1b91-4f63-a54e-59627b7d04b4"
      },
      "execution_count": 39,
      "outputs": [
        {
          "output_type": "execute_result",
          "data": {
            "application/vnd.google.colaboratory.intrinsic+json": {
              "type": "string"
            },
            "text/plain": [
              "'So there was a boy, and he wanted to learn how to program'"
            ]
          },
          "metadata": {},
          "execution_count": 39
        }
      ]
    },
    {
      "cell_type": "code",
      "source": [
        "'He started with C++ and ........'"
      ],
      "metadata": {
        "colab": {
          "base_uri": "https://localhost:8080/",
          "height": 35
        },
        "id": "KQFrihdt0MHR",
        "outputId": "4d1bdfb5-bd17-49ec-92e9-4c129aad220c"
      },
      "execution_count": 40,
      "outputs": [
        {
          "output_type": "execute_result",
          "data": {
            "application/vnd.google.colaboratory.intrinsic+json": {
              "type": "string"
            },
            "text/plain": [
              "'He started with C++ and ........'"
            ]
          },
          "metadata": {},
          "execution_count": 40
        }
      ]
    },
    {
      "cell_type": "code",
      "source": [
        "'He never coded again. The End'"
      ],
      "metadata": {
        "colab": {
          "base_uri": "https://localhost:8080/",
          "height": 35
        },
        "id": "QC_HB3HX0MDL",
        "outputId": "950abe63-7e4a-4336-d0aa-bc7783fa134c"
      },
      "execution_count": 41,
      "outputs": [
        {
          "output_type": "execute_result",
          "data": {
            "application/vnd.google.colaboratory.intrinsic+json": {
              "type": "string"
            },
            "text/plain": [
              "'He never coded again. The End'"
            ]
          },
          "metadata": {},
          "execution_count": 41
        }
      ]
    },
    {
      "cell_type": "code",
      "source": [
        "\"It's a snowy day today\""
      ],
      "metadata": {
        "colab": {
          "base_uri": "https://localhost:8080/",
          "height": 35
        },
        "id": "z8KdQpZZ1BKP",
        "outputId": "be1d675c-8a06-43d7-ab74-1fe09b516ee0"
      },
      "execution_count": 42,
      "outputs": [
        {
          "output_type": "execute_result",
          "data": {
            "application/vnd.google.colaboratory.intrinsic+json": {
              "type": "string"
            },
            "text/plain": [
              "\"It's a snowy day today\""
            ]
          },
          "metadata": {},
          "execution_count": 42
        }
      ]
    },
    {
      "cell_type": "code",
      "source": [
        "len(\"It's a snowy day today\")"
      ],
      "metadata": {
        "colab": {
          "base_uri": "https://localhost:8080/"
        },
        "id": "iayg32U51fdE",
        "outputId": "53dcb7bd-9c2d-4eff-fb9f-af0589c4c9f7"
      },
      "execution_count": 43,
      "outputs": [
        {
          "output_type": "execute_result",
          "data": {
            "text/plain": [
              "22"
            ]
          },
          "metadata": {},
          "execution_count": 43
        }
      ]
    },
    {
      "cell_type": "code",
      "source": [
        "\n",
        "var=\"I'm compressing this string into a variable\"\n",
        "len(var)"
      ],
      "metadata": {
        "colab": {
          "base_uri": "https://localhost:8080/"
        },
        "id": "wQ-6s8ht1rNG",
        "outputId": "bd3308d5-6bb1-4831-ff0b-a696e641b537"
      },
      "execution_count": 44,
      "outputs": [
        {
          "output_type": "execute_result",
          "data": {
            "text/plain": [
              "43"
            ]
          },
          "metadata": {},
          "execution_count": 44
        }
      ]
    },
    {
      "cell_type": "code",
      "source": [
        "\"I'm not compressing this string into a variable\"\n",
        "len(\"I'm not compressing this string into a variable\")\n",
        "len(var)"
      ],
      "metadata": {
        "colab": {
          "base_uri": "https://localhost:8080/"
        },
        "id": "JJIVcQcC17eX",
        "outputId": "3dcfa81c-8b0a-4d6f-8c79-ec9613b75366"
      },
      "execution_count": 45,
      "outputs": [
        {
          "output_type": "execute_result",
          "data": {
            "text/plain": [
              "43"
            ]
          },
          "metadata": {},
          "execution_count": 45
        }
      ]
    },
    {
      "cell_type": "markdown",
      "source": [
        "## String Indexing"
      ],
      "metadata": {
        "id": "tqEbud8G7Olk"
      }
    },
    {
      "cell_type": "code",
      "source": [
        "print (var)"
      ],
      "metadata": {
        "colab": {
          "base_uri": "https://localhost:8080/"
        },
        "id": "P4eQzB1k7XQk",
        "outputId": "5b35f914-fc05-4b21-c029-05995701f0a2"
      },
      "execution_count": 46,
      "outputs": [
        {
          "output_type": "stream",
          "name": "stdout",
          "text": [
            "I'm compressing this string into a variable\n"
          ]
        }
      ]
    },
    {
      "cell_type": "code",
      "source": [
        "var[2] #This takes each element from string selects the particular location and prints it. m is the third character of my string (values start from 0)"
      ],
      "metadata": {
        "colab": {
          "base_uri": "https://localhost:8080/",
          "height": 35
        },
        "id": "7S3Auq3R7XCI",
        "outputId": "0f06eafc-c9e2-4b7b-e823-dbf91aefa2e4"
      },
      "execution_count": 47,
      "outputs": [
        {
          "output_type": "execute_result",
          "data": {
            "application/vnd.google.colaboratory.intrinsic+json": {
              "type": "string"
            },
            "text/plain": [
              "'m'"
            ]
          },
          "metadata": {},
          "execution_count": 47
        }
      ]
    },
    {
      "cell_type": "markdown",
      "source": [
        "## concatenation of strings "
      ],
      "metadata": {
        "id": "0ugLadY07PGN"
      }
    },
    {
      "cell_type": "code",
      "source": [
        "greeting= \"Hello\""
      ],
      "metadata": {
        "id": "WrbmKLjhcaD2"
      },
      "execution_count": 48,
      "outputs": []
    },
    {
      "cell_type": "code",
      "source": [
        "name = \"Mic\""
      ],
      "metadata": {
        "id": "uXDZ612Rcdf0"
      },
      "execution_count": 49,
      "outputs": []
    },
    {
      "cell_type": "code",
      "source": [
        "print (greeting + name)\n",
        "print (greeting + \" \" + name)\n",
        "print (greeting + \" \" + str(7)) ## this how to concatenated different data types\n"
      ],
      "metadata": {
        "colab": {
          "base_uri": "https://localhost:8080/"
        },
        "id": "OUUtbJJ4cf6q",
        "outputId": "a2c17783-b2ca-46ba-a982-a11873d55485"
      },
      "execution_count": 54,
      "outputs": [
        {
          "output_type": "stream",
          "name": "stdout",
          "text": [
            "HelloMic\n",
            "Hello Mic\n",
            "Hello 7\n"
          ]
        }
      ]
    },
    {
      "cell_type": "markdown",
      "source": [
        "input function "
      ],
      "metadata": {
        "id": "pxQ47QtheKvY"
      }
    },
    {
      "cell_type": "code",
      "source": [
        "greeting = \"Hello\""
      ],
      "metadata": {
        "id": "YyniANB-eW8M"
      },
      "execution_count": 55,
      "outputs": []
    },
    {
      "cell_type": "code",
      "source": [
        "name = input (\"Your name or whatever: \")\n",
        "print (greeting+ \" \" + name)"
      ],
      "metadata": {
        "colab": {
          "base_uri": "https://localhost:8080/"
        },
        "id": "E0wsXpu3ecG5",
        "outputId": "de23f083-e867-4f47-8882-605ec81d067e"
      },
      "execution_count": 56,
      "outputs": [
        {
          "output_type": "stream",
          "name": "stdout",
          "text": [
            "Your name or whatever: test\n",
            "Hellotest\n"
          ]
        }
      ]
    },
    {
      "cell_type": "markdown",
      "source": [
        "Comment"
      ],
      "metadata": {
        "id": "V3g_-xgferiz"
      }
    },
    {
      "cell_type": "code",
      "source": [
        "'''\n",
        "task: \n",
        "1. ask the user for name, age, and city. \n",
        "2. print out a greeting for it \n",
        "'''\n"
      ],
      "metadata": {
        "id": "qDfP6-twe6vZ"
      },
      "execution_count": null,
      "outputs": []
    },
    {
      "cell_type": "code",
      "source": [
        "print('Yo What is your name, age, and what city do you live in')\n",
        "name = input (\"Name:\")\n",
        "age = input (\"age:\")\n",
        "city = input (\"city:\")\n",
        "print (f'Hello, {name}, you are so cool especially since you are only {age} and especailly since you are from the bad city called {city}')\n",
        "##f is short for format and it allows you to concateate strings with out using the + operate"
      ],
      "metadata": {
        "colab": {
          "base_uri": "https://localhost:8080/"
        },
        "id": "yVsJzzeZe9oo",
        "outputId": "e013f0a2-da49-4c39-e516-0a2a39cbbe38"
      },
      "execution_count": 65,
      "outputs": [
        {
          "output_type": "stream",
          "name": "stdout",
          "text": [
            "Yo What is your name, age, and what city do you live in\n",
            "Name:mic\n",
            "age:4\n",
            "city:ok\n",
            "Hello, mic, you are so cool especially since you are only 4 and especailly since you are from the bad city called ok\n"
          ]
        }
      ]
    },
    {
      "cell_type": "markdown",
      "source": [
        "Numbers"
      ],
      "metadata": {
        "id": "-h_SSM0Bjn34"
      }
    },
    {
      "cell_type": "code",
      "source": [
        "a=20\n",
        "b=4\n",
        "print (a-b)"
      ],
      "metadata": {
        "id": "Gn8IPpvjju62"
      },
      "execution_count": null,
      "outputs": []
    },
    {
      "cell_type": "code",
      "source": [
        "print (a)\n",
        "print (b)"
      ],
      "metadata": {
        "id": "zd6GdoqVkL-w"
      },
      "execution_count": null,
      "outputs": []
    },
    {
      "cell_type": "markdown",
      "source": [
        "print (a+b)"
      ],
      "metadata": {
        "id": "Qf8PbRbpj56m"
      }
    },
    {
      "cell_type": "code",
      "source": [
        "print (a*b)"
      ],
      "metadata": {
        "id": "5hqyitHYj9X5"
      },
      "execution_count": null,
      "outputs": []
    },
    {
      "cell_type": "code",
      "source": [
        "print (a/b)"
      ],
      "metadata": {
        "id": "hCqfOMJEkHE1"
      },
      "execution_count": null,
      "outputs": []
    },
    {
      "cell_type": "code",
      "source": [
        ""
      ],
      "metadata": {
        "id": "8pCdJaNykHLm"
      },
      "execution_count": null,
      "outputs": []
    }
  ]
}