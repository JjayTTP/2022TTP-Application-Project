{
  "nbformat": 4,
  "nbformat_minor": 0,
  "metadata": {
    "colab": {
      "name": "Day 4 Command Lists.ipynb",
      "provenance": [],
      "collapsed_sections": [],
      "authorship_tag": "ABX9TyNDMDRHXorfWapTrrrTaH/g",
      "include_colab_link": true
    },
    "kernelspec": {
      "name": "python3",
      "display_name": "Python 3"
    },
    "language_info": {
      "name": "python"
    }
  },
  "cells": [
    {
      "cell_type": "markdown",
      "metadata": {
        "id": "view-in-github",
        "colab_type": "text"
      },
      "source": [
        "<a href=\"https://colab.research.google.com/github/vincepogz/2022TTP-Application-Project/blob/main/Day_4_Command_Lists.ipynb\" target=\"_parent\"><img src=\"https://colab.research.google.com/assets/colab-badge.svg\" alt=\"Open In Colab\"/></a>"
      ]
    },
    {
      "cell_type": "markdown",
      "source": [
        "# CMD Command List\n",
        "\n",
        "\n",
        "* **dir** = Displays a list of a folder’s files\n",
        "and subfolders\n",
        "* **cd** = Displays the name of the current\n",
        "directory or changes the current\n",
        "folder\n",
        "* **mkdir** = Creates a folder (directory) \n",
        "* **rmdir** = Deletes a folder (directory)\n",
        "* **copy** = Copies a file from one location to\n",
        "another\n",
        "* **move** = Moves file from one folder to\n",
        "another\n",
        "* **rename** = Changes the name of a file \n",
        "* **del** = Deletes one or more files\n",
        "* **exit** = Exits batch script or current\n",
        "command control\n",
        "* **echo** = Used to display a message or to\n",
        "turn off/on messages in batch\n",
        "scripts\n",
        "* **type** = Displays contents of a text file\n",
        "* **fc** = Compares two files and displays\n",
        "the difference between them\n",
        "* **cls** = Clears the screen\n",
        "* **help** = Provides more details about\n",
        "DOS/Command Prompt\n",
        "commands\n",
        "\n",
        "\n"
      ],
      "metadata": {
        "id": "H7qRaQojYkwt"
      }
    },
    {
      "cell_type": "markdown",
      "source": [
        "#Python Commands Lists \n",
        "\n",
        "* pip install 'package'\n",
        ">Python Package Installer\n",
        "\n",
        "* pip install conda\n",
        ">Install Conda Package. \n",
        ">To create environment to use for Django.\n",
        "\n",
        "\n",
        "* pip install django\n",
        ">Install Django Package. \n",
        ">Framework maily written in Python.\n",
        "\n",
        "* pip install pillow\n",
        ">Install Pillow Package. \n",
        ">AKA Python Imaging Library.\n",
        "\n",
        "* python -m django --version\n",
        "> Check version of Django\n"
      ],
      "metadata": {
        "id": "I_12dB4OeozH"
      }
    },
    {
      "cell_type": "markdown",
      "source": [
        "# Conda Commands List\n",
        "\n",
        "\n",
        "* install miniconda\n",
        "> https://docs.conda.io/en/latest/miniconda.html\n",
        "* conda info --envs\n",
        "> to display list of environments AND current environment\n",
        "* conda env create -n 'name' python=3.8\n",
        "> create new environment named 'name' with python version 3.8\n",
        "* conda activate 'name\"\n",
        "> activate 'name' environment\n",
        "* conda deactivate\n",
        "> deactivate current environment (go back to base)\n"
      ],
      "metadata": {
        "id": "TSOWEpvccKkB"
      }
    },
    {
      "cell_type": "markdown",
      "source": [
        "# Django Commands List\n",
        "\n",
        "* django-admin startproject 'name'\n",
        "> create new project 'name'\n",
        "\n"
      ],
      "metadata": {
        "id": "QFHa0bChq1ct"
      }
    },
    {
      "cell_type": "markdown",
      "source": [
        "#Python Manage.py Commands List\n",
        "\n",
        "* python manage.py runserver\n",
        "> Run project server\n",
        "\n",
        "* python manage.py startapp 'name'\n",
        "> Create a new app inside the project.\n",
        "\n",
        "* python manage.py createsuperuser\n",
        "> Create admin to the project server\n",
        "\n",
        "* python manage.py makemigrations\n",
        "> Check if there are changes to be migrated\n",
        "\n",
        "* python manage.py migrate\n",
        "> Migrate changes\n",
        "\n"
      ],
      "metadata": {
        "id": "RVfFOm3Xth_s"
      }
    }
  ]
}