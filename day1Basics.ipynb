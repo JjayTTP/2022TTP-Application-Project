{
  "nbformat": 4,
  "nbformat_minor": 0,
  "metadata": {
    "colab": {
      "name": "day1Basics.ipynb",
      "provenance": [],
      "collapsed_sections": [],
      "authorship_tag": "ABX9TyO1JnLdwI3t6E1nhPMTpMcE",
      "include_colab_link": true
    },
    "kernelspec": {
      "name": "python3",
      "display_name": "Python 3"
    },
    "language_info": {
      "name": "python"
    }
  },
  "cells": [
    {
      "cell_type": "markdown",
      "metadata": {
        "id": "view-in-github",
        "colab_type": "text"
      },
      "source": [
        "<a href=\"https://colab.research.google.com/github/ankitkafle1/2022TTP-Application-Project/blob/main/day1Basics.ipynb\" target=\"_parent\"><img src=\"https://colab.research.google.com/assets/colab-badge.svg\" alt=\"Open In Colab\"/></a>"
      ]
    },
    {
      "cell_type": "markdown",
      "source": [
        "#Hello Python"
      ],
      "metadata": {
        "id": "IzuFMomD0DJS"
      }
    },
    {
      "cell_type": "code",
      "source": [
        ""
      ],
      "metadata": {
        "id": "5cutq99Q0DXA"
      },
      "execution_count": null,
      "outputs": []
    },
    {
      "cell_type": "code",
      "source": [
        "#String Basics\n",
        "'This is a srting'\n",
        "'I am learning string'\n",
        "g = 'I am learning string'\n",
        "'hell there'\n",
        "k = 'hell there'\n",
        "len(k)\n",
        "'i am number 4'\n",
        "l = 'i am number 4'\n",
        "len(l)\n",
        "'finally number 5'\n",
        "o = 'finally number 5'\n",
        "len(o)\n",
        "len('This is a srting')\n",
        "\n",
        "\n",
        "s = 'This is a srting'\n",
        "len(s)\n",
        "g = 'General Knowldege'\n",
        "r =\"i msdf\"\n",
        "len(r)\n",
        "\n",
        "## String Indexing\n",
        "\n",
        "\n"
      ],
      "metadata": {
        "id": "mroRzmi60Djh"
      },
      "execution_count": null,
      "outputs": []
    },
    {
      "cell_type": "code",
      "source": [
        ""
      ],
      "metadata": {
        "id": "jPF6sfsh0Dtf"
      },
      "execution_count": null,
      "outputs": []
    },
    {
      "cell_type": "code",
      "source": [
        ""
      ],
      "metadata": {
        "id": "90Xiue7t0Dxr"
      },
      "execution_count": null,
      "outputs": []
    },
    {
      "cell_type": "code",
      "source": [
        ""
      ],
      "metadata": {
        "id": "jlM_iRRe0D01"
      },
      "execution_count": null,
      "outputs": []
    },
    {
      "cell_type": "code",
      "source": [
        ""
      ],
      "metadata": {
        "id": "k3XYx8KD0D3i"
      },
      "execution_count": null,
      "outputs": []
    }
  ]
}